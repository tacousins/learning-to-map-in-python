{
 "cells": [
  {
   "cell_type": "code",
   "execution_count": 18,
   "id": "88b77251-ee3f-4c9d-985e-2f0ec3a85c12",
   "metadata": {},
   "outputs": [],
   "source": [
    "# import libaries\n",
    "import duckdb\n",
    "import pandas as pd\n",
    "from datetime import datetime\n",
    "from sodapy import Socrata\n",
    "import os\n",
    "import folium\n",
    "from folium.plugins import MarkerCluster\n",
    "from IPython.display import IFrame"
   ]
  },
  {
   "cell_type": "code",
   "execution_count": 19,
   "id": "a81e88ba-a621-4d22-bcad-df69c3273cc6",
   "metadata": {},
   "outputs": [
    {
     "name": "stdout",
     "output_type": "stream",
     "text": [
      "The data was retrieved on 2025-04-21.\n"
     ]
    }
   ],
   "source": [
    "# data retrieved\n",
    "current_date = datetime.now()\n",
    "print(f\"The data was retrieved on {current_date.strftime('%Y-%m-%d')}.\")"
   ]
  },
  {
   "cell_type": "code",
   "execution_count": 20,
   "id": "e78fcce9-aaee-458a-9f9a-ea86ebee0498",
   "metadata": {},
   "outputs": [
    {
     "name": "stderr",
     "output_type": "stream",
     "text": [
      "WARNING:root:Requests made without an app_token will be subject to strict throttling limits.\n"
     ]
    },
    {
     "name": "stdout",
     "output_type": "stream",
     "text": [
      "<sodapy.socrata.Socrata object at 0x00000287EF216B40>\n"
     ]
    }
   ],
   "source": [
    "# nyc open data domain and 311 dataset id\n",
    "socrata_domain = 'data.cityofnewyork.us'\n",
    "socrata_dataset_identifier = 'erm2-nwe9'\n",
    "\n",
    "# Socrata object to fetch data\n",
    "client = Socrata(\n",
    "    domain=socrata_domain,\n",
    "    app_token=None,\n",
    "    timeout=1000\n",
    ")\n",
    "\n",
    "# sanity check\n",
    "print(client)"
   ]
  },
  {
   "cell_type": "code",
   "execution_count": 21,
   "id": "f92d1b38-cd74-4656-9932-74717d17adb5",
   "metadata": {},
   "outputs": [
    {
     "name": "stdout",
     "output_type": "stream",
     "text": [
      "shape of data: (759, 30)\n"
     ]
    },
    {
     "data": {
      "text/html": [
       "<div>\n",
       "<style scoped>\n",
       "    .dataframe tbody tr th:only-of-type {\n",
       "        vertical-align: middle;\n",
       "    }\n",
       "\n",
       "    .dataframe tbody tr th {\n",
       "        vertical-align: top;\n",
       "    }\n",
       "\n",
       "    .dataframe thead th {\n",
       "        text-align: right;\n",
       "    }\n",
       "</style>\n",
       "<table border=\"1\" class=\"dataframe\">\n",
       "  <thead>\n",
       "    <tr style=\"text-align: right;\">\n",
       "      <th></th>\n",
       "      <th>unique_key</th>\n",
       "      <th>created_date</th>\n",
       "      <th>closed_date</th>\n",
       "      <th>agency</th>\n",
       "      <th>agency_name</th>\n",
       "      <th>complaint_type</th>\n",
       "      <th>descriptor</th>\n",
       "      <th>incident_zip</th>\n",
       "      <th>incident_address</th>\n",
       "      <th>street_name</th>\n",
       "      <th>...</th>\n",
       "      <th>x_coordinate_state_plane</th>\n",
       "      <th>y_coordinate_state_plane</th>\n",
       "      <th>open_data_channel_type</th>\n",
       "      <th>park_facility_name</th>\n",
       "      <th>park_borough</th>\n",
       "      <th>latitude</th>\n",
       "      <th>longitude</th>\n",
       "      <th>location</th>\n",
       "      <th>intersection_street_1</th>\n",
       "      <th>intersection_street_2</th>\n",
       "    </tr>\n",
       "  </thead>\n",
       "  <tbody>\n",
       "    <tr>\n",
       "      <th>0</th>\n",
       "      <td>51716489</td>\n",
       "      <td>2021-09-02T01:55:00.000</td>\n",
       "      <td>2021-09-06T12:45:00.000</td>\n",
       "      <td>DEP</td>\n",
       "      <td>Department of Environmental Protection</td>\n",
       "      <td>Sewer</td>\n",
       "      <td>Street Flooding (SJ)</td>\n",
       "      <td>10302</td>\n",
       "      <td>17 BAYONNE COURT</td>\n",
       "      <td>BAYONNE COURT</td>\n",
       "      <td>...</td>\n",
       "      <td>944950</td>\n",
       "      <td>171782</td>\n",
       "      <td>ONLINE</td>\n",
       "      <td>Unspecified</td>\n",
       "      <td>STATEN ISLAND</td>\n",
       "      <td>40.63809131720773</td>\n",
       "      <td>-74.14160213232678</td>\n",
       "      <td>{'latitude': '40.63809131720773', 'longitude':...</td>\n",
       "      <td>NaN</td>\n",
       "      <td>NaN</td>\n",
       "    </tr>\n",
       "    <tr>\n",
       "      <th>1</th>\n",
       "      <td>51716416</td>\n",
       "      <td>2021-09-02T21:41:00.000</td>\n",
       "      <td>2021-09-04T06:30:00.000</td>\n",
       "      <td>DEP</td>\n",
       "      <td>Department of Environmental Protection</td>\n",
       "      <td>Sewer</td>\n",
       "      <td>Street Flooding (SJ)</td>\n",
       "      <td>11228</td>\n",
       "      <td>8414 15 AVENUE</td>\n",
       "      <td>15 AVENUE</td>\n",
       "      <td>...</td>\n",
       "      <td>981867</td>\n",
       "      <td>162359</td>\n",
       "      <td>ONLINE</td>\n",
       "      <td>Unspecified</td>\n",
       "      <td>BROOKLYN</td>\n",
       "      <td>40.6123140245488</td>\n",
       "      <td>-74.00858288641275</td>\n",
       "      <td>{'latitude': '40.6123140245488', 'longitude': ...</td>\n",
       "      <td>NaN</td>\n",
       "      <td>NaN</td>\n",
       "    </tr>\n",
       "    <tr>\n",
       "      <th>2</th>\n",
       "      <td>51718574</td>\n",
       "      <td>2021-09-02T12:43:00.000</td>\n",
       "      <td>2021-09-05T08:00:00.000</td>\n",
       "      <td>DEP</td>\n",
       "      <td>Department of Environmental Protection</td>\n",
       "      <td>Sewer</td>\n",
       "      <td>Street Flooding (SJ)</td>\n",
       "      <td>11228</td>\n",
       "      <td>1404 86 STREET</td>\n",
       "      <td>86 STREET</td>\n",
       "      <td>...</td>\n",
       "      <td>981048</td>\n",
       "      <td>162469</td>\n",
       "      <td>ONLINE</td>\n",
       "      <td>Unspecified</td>\n",
       "      <td>BROOKLYN</td>\n",
       "      <td>40.61261569377124</td>\n",
       "      <td>-74.01153274298028</td>\n",
       "      <td>{'latitude': '40.61261569377124', 'longitude':...</td>\n",
       "      <td>NaN</td>\n",
       "      <td>NaN</td>\n",
       "    </tr>\n",
       "    <tr>\n",
       "      <th>3</th>\n",
       "      <td>51718575</td>\n",
       "      <td>2021-09-02T12:08:00.000</td>\n",
       "      <td>2021-09-06T17:30:00.000</td>\n",
       "      <td>DEP</td>\n",
       "      <td>Department of Environmental Protection</td>\n",
       "      <td>Sewer</td>\n",
       "      <td>Street Flooding (SJ)</td>\n",
       "      <td>10304</td>\n",
       "      <td>37 METCALFE STREET</td>\n",
       "      <td>METCALFE STREET</td>\n",
       "      <td>...</td>\n",
       "      <td>960468</td>\n",
       "      <td>163762</td>\n",
       "      <td>ONLINE</td>\n",
       "      <td>Unspecified</td>\n",
       "      <td>STATEN ISLAND</td>\n",
       "      <td>40.61613337335125</td>\n",
       "      <td>-74.08566089629163</td>\n",
       "      <td>{'latitude': '40.61613337335125', 'longitude':...</td>\n",
       "      <td>NaN</td>\n",
       "      <td>NaN</td>\n",
       "    </tr>\n",
       "    <tr>\n",
       "      <th>4</th>\n",
       "      <td>51718713</td>\n",
       "      <td>2021-09-02T23:13:00.000</td>\n",
       "      <td>2021-09-07T17:35:00.000</td>\n",
       "      <td>DEP</td>\n",
       "      <td>Department of Environmental Protection</td>\n",
       "      <td>Sewer</td>\n",
       "      <td>Street Flooding (SJ)</td>\n",
       "      <td>10464</td>\n",
       "      <td>401 HUNTER AVENUE</td>\n",
       "      <td>HUNTER AVENUE</td>\n",
       "      <td>...</td>\n",
       "      <td>1042769</td>\n",
       "      <td>248887</td>\n",
       "      <td>ONLINE</td>\n",
       "      <td>Unspecified</td>\n",
       "      <td>BRONX</td>\n",
       "      <td>40.84961841367458</td>\n",
       "      <td>-73.78847912076893</td>\n",
       "      <td>{'latitude': '40.84961841367458', 'longitude':...</td>\n",
       "      <td>NaN</td>\n",
       "      <td>NaN</td>\n",
       "    </tr>\n",
       "  </tbody>\n",
       "</table>\n",
       "<p>5 rows × 30 columns</p>\n",
       "</div>"
      ],
      "text/plain": [
       "  unique_key             created_date              closed_date agency  \\\n",
       "0   51716489  2021-09-02T01:55:00.000  2021-09-06T12:45:00.000    DEP   \n",
       "1   51716416  2021-09-02T21:41:00.000  2021-09-04T06:30:00.000    DEP   \n",
       "2   51718574  2021-09-02T12:43:00.000  2021-09-05T08:00:00.000    DEP   \n",
       "3   51718575  2021-09-02T12:08:00.000  2021-09-06T17:30:00.000    DEP   \n",
       "4   51718713  2021-09-02T23:13:00.000  2021-09-07T17:35:00.000    DEP   \n",
       "\n",
       "                              agency_name complaint_type  \\\n",
       "0  Department of Environmental Protection          Sewer   \n",
       "1  Department of Environmental Protection          Sewer   \n",
       "2  Department of Environmental Protection          Sewer   \n",
       "3  Department of Environmental Protection          Sewer   \n",
       "4  Department of Environmental Protection          Sewer   \n",
       "\n",
       "             descriptor incident_zip    incident_address      street_name  \\\n",
       "0  Street Flooding (SJ)        10302    17 BAYONNE COURT    BAYONNE COURT   \n",
       "1  Street Flooding (SJ)        11228      8414 15 AVENUE        15 AVENUE   \n",
       "2  Street Flooding (SJ)        11228      1404 86 STREET        86 STREET   \n",
       "3  Street Flooding (SJ)        10304  37 METCALFE STREET  METCALFE STREET   \n",
       "4  Street Flooding (SJ)        10464   401 HUNTER AVENUE    HUNTER AVENUE   \n",
       "\n",
       "   ... x_coordinate_state_plane y_coordinate_state_plane  \\\n",
       "0  ...                   944950                   171782   \n",
       "1  ...                   981867                   162359   \n",
       "2  ...                   981048                   162469   \n",
       "3  ...                   960468                   163762   \n",
       "4  ...                  1042769                   248887   \n",
       "\n",
       "  open_data_channel_type park_facility_name   park_borough           latitude  \\\n",
       "0                 ONLINE        Unspecified  STATEN ISLAND  40.63809131720773   \n",
       "1                 ONLINE        Unspecified       BROOKLYN   40.6123140245488   \n",
       "2                 ONLINE        Unspecified       BROOKLYN  40.61261569377124   \n",
       "3                 ONLINE        Unspecified  STATEN ISLAND  40.61613337335125   \n",
       "4                 ONLINE        Unspecified          BRONX  40.84961841367458   \n",
       "\n",
       "            longitude                                           location  \\\n",
       "0  -74.14160213232678  {'latitude': '40.63809131720773', 'longitude':...   \n",
       "1  -74.00858288641275  {'latitude': '40.6123140245488', 'longitude': ...   \n",
       "2  -74.01153274298028  {'latitude': '40.61261569377124', 'longitude':...   \n",
       "3  -74.08566089629163  {'latitude': '40.61613337335125', 'longitude':...   \n",
       "4  -73.78847912076893  {'latitude': '40.84961841367458', 'longitude':...   \n",
       "\n",
       "  intersection_street_1 intersection_street_2  \n",
       "0                   NaN                   NaN  \n",
       "1                   NaN                   NaN  \n",
       "2                   NaN                   NaN  \n",
       "3                   NaN                   NaN  \n",
       "4                   NaN                   NaN  \n",
       "\n",
       "[5 rows x 30 columns]"
      ]
     },
     "execution_count": 21,
     "metadata": {},
     "output_type": "execute_result"
    }
   ],
   "source": [
    "# query\n",
    "query = \"\"\"\n",
    "    SELECT *\n",
    "    WHERE descriptor == 'Street Flooding (SJ)' AND created_date between '2021-09-01T12:00:00' and '2021-09-04T12:00:00'\n",
    "    LIMIT 100000 -- manually make this a high number, much above the results\n",
    "\"\"\"\n",
    "\n",
    "# get data from client\n",
    "results = client.get(socrata_dataset_identifier, query=query)\n",
    "\n",
    "# transform into dataframe\n",
    "results_df = pd.DataFrame(results)\n",
    "\n",
    "# close client\n",
    "client.close()\n",
    "\n",
    "print(f'shape of data: {results_df.shape}')\n",
    "results_df.head()"
   ]
  },
  {
   "cell_type": "code",
   "execution_count": 22,
   "id": "f613959d-4549-4105-86e5-daa6833b83f2",
   "metadata": {},
   "outputs": [],
   "source": [
    "# Convert to numeric (float), set errors='coerce' to handle any bad data\n",
    "results_df['latitude'] = pd.to_numeric(results_df['latitude'], errors='coerce')\n",
    "results_df['longitude'] = pd.to_numeric(results_df['longitude'], errors='coerce')\n",
    "\n",
    "# Drop rows with invalid or missing coordinates\n",
    "results_df = results_df.dropna(subset=['latitude', 'longitude'])\n"
   ]
  },
  {
   "cell_type": "code",
   "execution_count": 38,
   "id": "66c34262-a6eb-48d8-a093-cdc5f8c05f98",
   "metadata": {},
   "outputs": [
    {
     "data": {
      "text/html": [
       "\n",
       "        <iframe\n",
       "            width=\"1000\"\n",
       "            height=\"1000\"\n",
       "            src=\"cluster_map.html\"\n",
       "            frameborder=\"0\"\n",
       "            allowfullscreen\n",
       "            \n",
       "        ></iframe>\n",
       "        "
      ],
      "text/plain": [
       "<IPython.lib.display.IFrame at 0x287f303ebd0>"
      ]
     },
     "execution_count": 38,
     "metadata": {},
     "output_type": "execute_result"
    }
   ],
   "source": [
    "# Create the map around the mean of the latitude and longitude\n",
    "m = folium.Map(location=[results_df['latitude'].mean(), results_df['longitude'].mean()])\n",
    "\n",
    "# Initialize MarkerCluster\n",
    "marker_cluster = MarkerCluster().add_to(m)\n",
    "\n",
    "# Loop through rows and add each point to the cluster\n",
    "for _, row in results_df.iterrows():  # <-- changed from df to results_df  \n",
    "    folium.Marker(\n",
    "        location=[row['latitude'], row['longitude']]\n",
    "    ).add_to(marker_cluster)\n",
    "\n",
    "# Display the map (for GitHub)\n",
    "cluster_map = \"cluster_map.html\"\n",
    "IFrame('cluster_map.html', width=1000, height=1000)\n"
   ]
  },
  {
   "cell_type": "markdown",
   "id": "d00b5d75-cbb2-4be3-8d04-2b2e66c55948",
   "metadata": {},
   "source": [
    "[Click here to view the interactive map](cluster_map.html)"
   ]
  },
  {
   "cell_type": "code",
   "execution_count": 37,
   "id": "28d55df7-5fbf-42dc-9c4f-51bff4ece87a",
   "metadata": {},
   "outputs": [
    {
     "data": {
      "text/html": [
       "\n",
       "        <iframe\n",
       "            width=\"1000\"\n",
       "            height=\"1000\"\n",
       "            src=\"point_map.html\"\n",
       "            frameborder=\"0\"\n",
       "            allowfullscreen\n",
       "            \n",
       "        ></iframe>\n",
       "        "
      ],
      "text/plain": [
       "<IPython.lib.display.IFrame at 0x287f2fe24b0>"
      ]
     },
     "execution_count": 37,
     "metadata": {},
     "output_type": "execute_result"
    }
   ],
   "source": [
    "# Create the map around the mean of the latitude and longitude\n",
    "m = folium.Map(location=[results_df['latitude'].mean(), results_df['longitude'].mean()])\n",
    "\n",
    "# Loop through rows and add each point to the cluster\n",
    "for _, row in results_df.iterrows():\n",
    "    folium.CircleMarker(\n",
    "        location=[row['latitude'], row['longitude']],\n",
    "        radius=5,               # Circle size\n",
    "        color='blue',           # Border color\n",
    "        fill=True,\n",
    "        fill_color='blue',      # Fill color\n",
    "        fill_opacity=0.5\n",
    "    ).add_to(m)\n",
    "\n",
    "# Display the map\n",
    "point_map = \"point_map.html\"\n",
    "IFrame('point_map.html', width=1000, height=1000)\n"
   ]
  },
  {
   "cell_type": "markdown",
   "id": "6220b63b-384c-408f-9c8e-e7a8fbe031e3",
   "metadata": {},
   "source": [
    "[Click here to view the interactive map](point_map.html)"
   ]
  },
  {
   "cell_type": "code",
   "execution_count": null,
   "id": "30fc9a8d-f957-4007-a2ce-3d5b6a9e4128",
   "metadata": {},
   "outputs": [],
   "source": []
  }
 ],
 "metadata": {
  "kernelspec": {
   "display_name": "Python 3 (ipykernel)",
   "language": "python",
   "name": "python3"
  },
  "language_info": {
   "codemirror_mode": {
    "name": "ipython",
    "version": 3
   },
   "file_extension": ".py",
   "mimetype": "text/x-python",
   "name": "python",
   "nbconvert_exporter": "python",
   "pygments_lexer": "ipython3",
   "version": "3.12.7"
  }
 },
 "nbformat": 4,
 "nbformat_minor": 5
}
